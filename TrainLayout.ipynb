{
 "cells": [
  {
   "cell_type": "code",
   "execution_count": null,
   "metadata": {},
   "outputs": [],
   "source": [
    "# start jupyter nb from virtualenv, select layout_env kernel\n",
    "!python scripts/train_layout_vg.py --output_dir ~/layout_models/OUTPUT_DIR_VG_LAYOUT_8PT_OBJCLASS0.0/  \\\n",
    "    --triplet_box_net 1 --batch_size 16 \\\n",
    "    --triplet_bboxes_pred_loss_weight 10 --predicate_pred_loss_weight 0 \\\n",
    "    --object_pred_loss_weight 0 --subject_pred_loss_weight 0 --object_class_loss_weight 0 \\\n",
    "    --check_val_metrics_every 1000 --dataset vg --checkpoint_every 5000"
   ]
  },
  {
   "cell_type": "code",
   "execution_count": null,
   "metadata": {},
   "outputs": [],
   "source": [
    "%load_ext tensorboard\n",
    "%tensorboard --logdir=~/layout_models/OUTPUT_DIR_VG_LAYOUT_8PT_OBJCLASS0.0/"
   ]
  },
  {
   "cell_type": "code",
   "execution_count": null,
   "metadata": {},
   "outputs": [],
   "source": []
  }
 ],
 "metadata": {
  "kernelspec": {
   "display_name": "layout_env",
   "language": "python",
   "name": "layout_env"
  },
  "language_info": {
   "codemirror_mode": {
    "name": "ipython",
    "version": 3
   },
   "file_extension": ".py",
   "mimetype": "text/x-python",
   "name": "python",
   "nbconvert_exporter": "python",
   "pygments_lexer": "ipython3",
   "version": "3.7.6"
  }
 },
 "nbformat": 4,
 "nbformat_minor": 4
}
